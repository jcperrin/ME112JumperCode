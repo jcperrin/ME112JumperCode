{
 "cells": [
  {
   "cell_type": "markdown",
   "metadata": {},
   "source": [
    "# Motor Characterization: Pololu\n",
    "\n",
    "2018 March 3\n",
    "Jean-Christophe Perrin\n",
    "\n",
    "This jupyter notebook adapts motor characterization code from the ME112 crawler project to characterize our new motor for the final project. Jan Sokol carried out the empirical testing of the motor on March 3.\n",
    "\n",
    "Specifically, we are looking at a [Tamiya 72005 6-Speed Gearbox Kit](https://www.pololu.com/product/74/specs)."
   ]
  },
  {
   "cell_type": "code",
   "execution_count": 9,
   "metadata": {},
   "outputs": [],
   "source": [
    "import matplotlib.pyplot as plt\n",
    "import pandas as pd\n",
    "import numpy as np"
   ]
  },
  {
   "cell_type": "markdown",
   "metadata": {},
   "source": [
    "## Useful Constants\n",
    "\n",
    "These are some simple conversions and constants that will be useful later in our calculations."
   ]
  },
  {
   "cell_type": "code",
   "execution_count": 10,
   "metadata": {},
   "outputs": [],
   "source": [
    "m_to_in = 39.37                     # Meters to inches\n",
    "N_to_lbf = 0.2248                   # Newtons to pounds force\n",
    "Nm_to_inlbf = N_to_lbf*m_to_in      # Nm to inchpounds torque\n",
    "inprsec_ftprmin = 60.0/12           # inches/second to feet/minute\n",
    "rpm_to_radps = 2*np.pi/60           # rotations/minute to radians/second\n",
    "deg_to_rad = np.pi/180              # degrees to radians\n",
    "watt_to_hp = 745.7                  # Watts to horsepower"
   ]
  },
  {
   "cell_type": "markdown",
   "metadata": {},
   "source": [
    "## Importing Lab Data\n",
    "\n",
    "Jan Sokol collected data from our motor concerning different current-voltage pairs at stall (when the motor axel is helld fixed) and at no load (freely spinning). From these measurements we can characterize the expected output of the motor. They reside in an excel document that should not be altered"
   ]
  },
  {
   "cell_type": "code",
   "execution_count": 11,
   "metadata": {},
   "outputs": [],
   "source": [
    "xls = pd.ExcelFile('motorPololu_Data.xlsx')\n",
    "nl = pd.read_excel(xls, \"noLoad\")\n",
    "stall = pd.read_excel(xls, \"stall\")"
   ]
  },
  {
   "cell_type": "markdown",
   "metadata": {},
   "source": [
    "## Motor Constant Calculations\n",
    "\n",
    "### Finding R\n",
    "At $\\omega = 0$ we know that $V = iR$. Therefore, R of the motor is equal to V/i_stall"
   ]
  },
  {
   "cell_type": "code",
   "execution_count": 12,
   "metadata": {},
   "outputs": [],
   "source": [
    "stall['R'] = stall['V'] / stall['I']\n",
    "R = np.mean(stall['R']) # [Ohm]"
   ]
  },
  {
   "cell_type": "markdown",
   "metadata": {},
   "source": [
    "### Finding K (Motor Constant)\n",
    "\n",
    "At $\\tau _l = 0$ we know that the motor equation becomes:\n",
    "\\begin{equation}\n",
    "    V - i_{nl}R - k \\omega_{nl} = 0\n",
    "\\end{equation}\n",
    "\n",
    "Rearranging, we find\n",
    "\\begin{equation}\n",
    "    k = \\frac{V-i_{nl}R}{\\omega _{nl}}\n",
    "\\end{equation}"
   ]
  },
  {
   "cell_type": "code",
   "execution_count": 15,
   "metadata": {},
   "outputs": [],
   "source": [
    "nl['w'] = nl['RPM'] / 60 * 2 * np.pi      # [rad/s] converting to rad/s\n",
    "nl['k'] = (nl['V'] - nl['I'] * R)/nl['w']"
   ]
  },
  {
   "cell_type": "markdown",
   "metadata": {},
   "source": [
    "Now that we have value for an estimated k at each collected data point, let's find the linear regression of the data and use the slope (or average k) as an estimator of the actual K value."
   ]
  },
  {
   "cell_type": "code",
   "execution_count": 19,
   "metadata": {},
   "outputs": [
    {
     "name": "stdout",
     "output_type": "stream",
     "text": [
      "0.0021645623179572596\n"
     ]
    },
    {
     "data": {
      "image/png": "[encoded data removed]",
      "text/plain": [
       "<matplotlib.figure.Figure at 0x11572f5d0>"
      ]
     },
     "metadata": {},
     "output_type": "display_data"
    }
   ],
   "source": [
    "K, intercept = np.polyfit(nl['w'], nl['w']*nl['k'], 1)\n",
    "\n",
    "kChecking = plt.figure()\n",
    "ax1 = kChecking.add_subplot(111)\n",
    "ax1.scatter(nl['w'], nl['V'] - nl['I'] * R)\n",
    "ax1.plot(nl['w'], K*nl['w']+intercept)\n",
    "ax1.set(xlabel='w [rad/s]', ylabel='V-iR', title='Approximating K')\n",
    "\n",
    "print K"
   ]
  },
  {
   "cell_type": "markdown",
   "metadata": {},
   "source": [
    "## Finding $\\tau_l$\n",
    "\n",
    "At no load, the motor is spinning freely, $T_L = 0$, and the only torque is the friction torque, $T_f$.\n",
    "\n",
    "\\begin{equation}\n",
    "k i_{nl} = T_f \n",
    "\\end{equation}"
   ]
  },
  {
   "cell_type": "code",
   "execution_count": 20,
   "metadata": {},
   "outputs": [
    {
     "name": "stdout",
     "output_type": "stream",
     "text": [
      "0.00045494957087\n"
     ]
    }
   ],
   "source": [
    "nl['Tf'] = nl['k']*nl['I'] \n",
    "Tf = np.mean(nl['Tf'])  # [Nm] Frictional Torque of the motor\n",
    "print Tf"
   ]
  },
  {
   "cell_type": "markdown",
   "metadata": {},
   "source": [
    "# Find Power Curves"
   ]
  },
  {
   "cell_type": "code",
   "execution_count": null,
   "metadata": {},
   "outputs": [],
   "source": []
  }
 ],
 "metadata": {
  "kernelspec": {
   "display_name": "Python 2",
   "language": "python",
   "name": "python2"
  },
  "language_info": {
   "codemirror_mode": {
    "name": "ipython",
    "version": 2
   },
   "file_extension": ".py",
   "mimetype": "text/x-python",
   "name": "python",
   "nbconvert_exporter": "python",
   "pygments_lexer": "ipython2",
   "version": "2.7.14"
  }
 },
 "nbformat": 4,
 "nbformat_minor": 2
}
